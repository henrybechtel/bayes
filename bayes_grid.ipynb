{
 "cells": [
  {
   "cell_type": "markdown",
   "metadata": {},
   "source": [
    "# Introduction to Bayesian Analysis via Grid Methods"
   ]
  },
  {
   "cell_type": "markdown",
   "metadata": {},
   "source": [
    "by Henry Bechtel \n",
    "\n",
    "Many introductions to Bayesian analysis can either be too simplistic or too complex. I think grid methods offer great insight into how Bayesian analysis works that can go beyond simple, toy examples and can also show why MCMC methods are required for more complex problems.\n",
    "\n",
    "Special thanks to excellent, inspirational work by Allen Downey and Brandon Rohrer."
   ]
  },
  {
   "cell_type": "code",
   "execution_count": 1,
   "metadata": {},
   "outputs": [],
   "source": [
    "import numpy as np\n",
    "import scipy.stats as stats\n",
    "import matplotlib.pyplot as plt"
   ]
  },
  {
   "cell_type": "markdown",
   "metadata": {},
   "source": [
    "## Biased Coins\n",
    "Let's say we have some obervations of coin flips."
   ]
  },
  {
   "cell_type": "code",
   "execution_count": 2,
   "metadata": {},
   "outputs": [],
   "source": [
    "observations = np.array([1,0,1,1,1,0])\n",
    "positive_obs = sum(observations)\n",
    "total_obs = len(observations)"
   ]
  },
  {
   "cell_type": "code",
   "execution_count": 3,
   "metadata": {},
   "outputs": [],
   "source": [
    "number_of_hypotheses = 100\n",
    "hypotheses = np.linspace(0,1, number_of_hypotheses)"
   ]
  },
  {
   "cell_type": "markdown",
   "metadata": {},
   "source": [
    "You know what... let's do something more interesting."
   ]
  },
  {
   "cell_type": "markdown",
   "metadata": {},
   "source": [
    "## Measurement Errors"
   ]
  },
  {
   "cell_type": "markdown",
   "metadata": {},
   "source": [
    "Let's look at a more complex example. Here we are going to simulate a guassian process with some known parameters that we will try to recover.\n",
    "\n",
    "Let's say we only saw 5 observations."
   ]
  },
  {
   "cell_type": "code",
   "execution_count": 4,
   "metadata": {},
   "outputs": [
    {
     "data": {
      "text/plain": [
       "array([14.10103135, 13.63970061, 15.92305877, 13.15407935, 14.6056184 ])"
      ]
     },
     "execution_count": 4,
     "metadata": {},
     "output_type": "execute_result"
    }
   ],
   "source": [
    "mean_true=15\n",
    "sd_true=2\n",
    "\n",
    "observations = np.random.normal(mean_true, sd_true, 5)\n",
    "observations"
   ]
  },
  {
   "cell_type": "markdown",
   "metadata": {},
   "source": [
    "First let's take a standard approach and take the mean and standard deviation or our observed samples. We could stop here and generate a normal distribution that quantified our beleif in what the true paramters are."
   ]
  },
  {
   "cell_type": "code",
   "execution_count": 5,
   "metadata": {},
   "outputs": [
    {
     "data": {
      "text/plain": [
       "(14.284697695483402, 0.9502914809494667)"
      ]
     },
     "execution_count": 5,
     "metadata": {},
     "output_type": "execute_result"
    }
   ],
   "source": [
    "np.mean(observations), np.std(observations)"
   ]
  },
  {
   "cell_type": "markdown",
   "metadata": {},
   "source": [
    "But let's get our Bayes on and incorporate a prior. We'll keep it flat for now, but this will still give us a better idea about how our hypotheses are likely to be distributed."
   ]
  },
  {
   "cell_type": "markdown",
   "metadata": {},
   "source": [
    "Setting up our \"grid\" for two parameters we are trying to infer"
   ]
  },
  {
   "cell_type": "code",
   "execution_count": 6,
   "metadata": {},
   "outputs": [],
   "source": [
    "hypotheses_1 = np.linspace(12,18,100) #These are all the means we want to test\n",
    "hypotheses_2 = np.linspace(0.001,4,100) #These are all the standard deviations we want to test"
   ]
  },
  {
   "cell_type": "code",
   "execution_count": 7,
   "metadata": {},
   "outputs": [],
   "source": [
    "prior = np.ones([len(hypotheses_1),len(hypotheses_2)]) # Here we are choosing a flat prior"
   ]
  },
  {
   "cell_type": "code",
   "execution_count": 8,
   "metadata": {},
   "outputs": [],
   "source": [
    "unnormalized_posterior = np.zeros([len(hypotheses_1),len(hypotheses_2)])"
   ]
  },
  {
   "cell_type": "code",
   "execution_count": 9,
   "metadata": {},
   "outputs": [],
   "source": [
    "marginal_likelihood = 0\n",
    "for i in range(len(hypotheses_1)):\n",
    "    mean = hypotheses_1[i]\n",
    "    for j in range(len(hypotheses_2)):\n",
    "        sd = hypotheses_2[j]\n",
    "        unnormalized_likelihood = 1\n",
    "        for x in observations:\n",
    "            unnormalized_likelihood *= stats.distributions.norm.pdf(x,mean,sd)\n",
    "        unnormalized_posterior[i,j] = unnormalized_likelihood*prior[i,j]        \n",
    "        marginal_likelihood += unnormalized_likelihood*prior[i,j] \n",
    "        \n",
    "posterior = unnormalized_posterior/marginal_likelihood"
   ]
  },
  {
   "cell_type": "markdown",
   "metadata": {},
   "source": [
    "Let's check that our posterior integrates to 1."
   ]
  },
  {
   "cell_type": "code",
   "execution_count": 10,
   "metadata": {},
   "outputs": [
    {
     "data": {
      "text/plain": [
       "1.0000000000000007"
      ]
     },
     "execution_count": 10,
     "metadata": {},
     "output_type": "execute_result"
    }
   ],
   "source": [
    "sum(sum(posterior))"
   ]
  },
  {
   "cell_type": "markdown",
   "metadata": {},
   "source": [
    "Let's find where the maximum probabilities are located in our grid."
   ]
  },
  {
   "cell_type": "code",
   "execution_count": 11,
   "metadata": {},
   "outputs": [
    {
     "data": {
      "text/plain": [
       "(array([38]), array([24]))"
      ]
     },
     "execution_count": 11,
     "metadata": {},
     "output_type": "execute_result"
    }
   ],
   "source": [
    "max_posterior = np.where(posterior == np.amax(posterior))\n",
    "max_posterior"
   ]
  },
  {
   "cell_type": "markdown",
   "metadata": {},
   "source": [
    "Let's check the point estimates of our grid method and compare with the standard calculations."
   ]
  },
  {
   "cell_type": "code",
   "execution_count": 12,
   "metadata": {},
   "outputs": [
    {
     "name": "stdout",
     "output_type": "stream",
     "text": [
      "Mean of obervations:14.284697695483402, Mean with Bayes:[14.3030303]\n",
      "Std Dev of obervations:0.9502914809494667, Std Dev estimated with Bayes:[0.97045455]\n"
     ]
    }
   ],
   "source": [
    "print(f'Mean of obervations:{np.mean(observations)}, Mean with Bayes:{hypotheses_1[max_posterior[0]]}' )\n",
    "print(f'Std Dev of obervations:{np.std(observations)}, Std Dev estimated with Bayes:{hypotheses_2[max_posterior[1]]}')"
   ]
  },
  {
   "cell_type": "markdown",
   "metadata": {},
   "source": [
    "Nice. Pretty similar... So why did we go through all that trouble to just get the same point estimates? Well, that's not all we get! We also get a posterior distribution for each of our parameters of interest."
   ]
  },
  {
   "cell_type": "code",
   "execution_count": 13,
   "metadata": {},
   "outputs": [
    {
     "data": {
      "image/png": "[encoded data removed]",
      "text/plain": [
       "<Figure size 432x288 with 1 Axes>"
      ]
     },
     "metadata": {
      "needs_background": "light"
     },
     "output_type": "display_data"
    }
   ],
   "source": [
    "plt.plot(hypotheses_1, posterior[:,max_posterior[1]]);\n",
    "plt.title(\"Posterior Distribution for the Mean\");"
   ]
  },
  {
   "cell_type": "code",
   "execution_count": 14,
   "metadata": {},
   "outputs": [
    {
     "data": {
      "image/png": "[encoded data removed]",
      "text/plain": [
       "<Figure size 432x288 with 1 Axes>"
      ]
     },
     "metadata": {
      "needs_background": "light"
     },
     "output_type": "display_data"
    }
   ],
   "source": [
    "plt.plot(hypotheses_2, posterior[max_posterior[0],:].T);\n",
    "plt.title(\"Posterior Distribution for the Standard Deviation\");"
   ]
  },
  {
   "cell_type": "markdown",
   "metadata": {},
   "source": [
    "Sweet. Now let's look at what our 2D prior and posterior distribution looks like with a contour plot."
   ]
  },
  {
   "cell_type": "code",
   "execution_count": 15,
   "metadata": {},
   "outputs": [
    {
     "data": {
      "text/plain": [
       "Text(0, 0.5, 'Probabilty')"
      ]
     },
     "execution_count": 15,
     "metadata": {},
     "output_type": "execute_result"
    },
    {
     "data": {
      "image/png": "[encoded data removed]",
      "text/plain": [
       "<Figure size 1080x432 with 3 Axes>"
      ]
     },
     "metadata": {
      "needs_background": "light"
     },
     "output_type": "display_data"
    }
   ],
   "source": [
    "fig, ax = plt.subplots(1,2, figsize=(15,6))\n",
    "X, Y = np.meshgrid(hypotheses_2, hypotheses_1)\n",
    "ax[0].set_title('Prior Distribution')\n",
    "ax[0].contourf(X,Y, prior);\n",
    "ax[1].set_title('Posterior Distribution')\n",
    "CS = ax[1].contourf(X,Y, posterior);\n",
    "cbar = fig.colorbar(CS)\n",
    "cbar.ax.set_ylabel('Probabilty')"
   ]
  },
  {
   "cell_type": "markdown",
   "metadata": {},
   "source": [
    "# Linear Regression"
   ]
  },
  {
   "cell_type": "markdown",
   "metadata": {},
   "source": [
    "Ok, let's step it up another notch and see if we can perform linear regression using only Bayes Rule, a normal pdf, and for-loops. Again, we're going to generate simulated data so we can know how we are doing with our Bayesian inference."
   ]
  },
  {
   "cell_type": "code",
   "execution_count": 32,
   "metadata": {},
   "outputs": [
    {
     "data": {
      "image/png": "[encoded data removed]",
      "text/plain": [
       "<Figure size 432x288 with 1 Axes>"
      ]
     },
     "metadata": {
      "needs_background": "light"
     },
     "output_type": "display_data"
    }
   ],
   "source": [
    "b0_true = 4\n",
    "b1_true = 2\n",
    "sigma_true = 2\n",
    "\n",
    "x = np.random.normal(6,2,10)\n",
    "y = b0_true + b1_true*x + np.random.randn(len(x))*sigma_true\n",
    "\n",
    "plt.scatter(x,y);"
   ]
  },
  {
   "cell_type": "markdown",
   "metadata": {},
   "source": [
    "Now we have three parameters that we will have a range of hypotheses for: Slope, intercept, and sigma.\n",
    "\n",
    "Setting up our grid of hypotheses:"
   ]
  },
  {
   "cell_type": "code",
   "execution_count": 33,
   "metadata": {},
   "outputs": [],
   "source": [
    "hypotheses_b0 = np.linspace(2,6,40) #These are all the intercepts we want to test\n",
    "hypotheses_b1 = np.linspace(1,4,40) #These are all the slopes we want to test\n",
    "hypotheses_s = np.linspace(0.001,4,40) #These are all the standard deviations we want to test"
   ]
  },
  {
   "cell_type": "code",
   "execution_count": 34,
   "metadata": {},
   "outputs": [],
   "source": [
    "prior = np.ones([len(hypotheses_b0), len(hypotheses_b1),len(hypotheses_s)]) # Flat prior"
   ]
  },
  {
   "cell_type": "code",
   "execution_count": 35,
   "metadata": {},
   "outputs": [],
   "source": [
    "unnormalized_posterior = np.zeros([len(hypotheses_b0), len(hypotheses_b1),len(hypotheses_s)])"
   ]
  },
  {
   "cell_type": "markdown",
   "metadata": {},
   "source": [
    "Now to loop through all combinations of parameters"
   ]
  },
  {
   "cell_type": "code",
   "execution_count": 36,
   "metadata": {},
   "outputs": [],
   "source": [
    "marginal_likelihood = 0\n",
    "for i in range(len(hypotheses_b0)):\n",
    "    b0 = hypotheses_b0[i]\n",
    "    for j in range(len(hypotheses_b1)):\n",
    "        b1 = hypotheses_b1[j]\n",
    "        for k in range(len(hypotheses_s)):\n",
    "            s = hypotheses_s[k]\n",
    "            unnormalized_likelihood = 1 \n",
    "            for d in range(len(x)):\n",
    "                unnormalized_likelihood *= stats.distributions.norm.pdf(y[d],loc=b0+b1*x[d],scale=s)\n",
    "            unnormalized_posterior[i, j, k] = unnormalized_likelihood*prior[i, j, k]\n",
    "            marginal_likelihood += unnormalized_likelihood*prior[i, j, k]   \n",
    "                \n",
    "posterior = unnormalized_posterior/marginal_likelihood"
   ]
  },
  {
   "cell_type": "code",
   "execution_count": 37,
   "metadata": {},
   "outputs": [
    {
     "data": {
      "text/plain": [
       "1.000000000000027"
      ]
     },
     "execution_count": 37,
     "metadata": {},
     "output_type": "execute_result"
    }
   ],
   "source": [
    "sum(sum(sum(posterior)))"
   ]
  },
  {
   "cell_type": "code",
   "execution_count": 38,
   "metadata": {},
   "outputs": [
    {
     "data": {
      "text/plain": [
       "(array([3]), array([16]), array([15]))"
      ]
     },
     "execution_count": 38,
     "metadata": {},
     "output_type": "execute_result"
    }
   ],
   "source": [
    "max_posterior = np.where(posterior == np.amax(posterior))\n",
    "max_posterior"
   ]
  },
  {
   "cell_type": "code",
   "execution_count": 39,
   "metadata": {},
   "outputs": [
    {
     "data": {
      "image/png": "[encoded data removed]",
      "text/plain": [
       "<Figure size 432x288 with 1 Axes>"
      ]
     },
     "metadata": {
      "needs_background": "light"
     },
     "output_type": "display_data"
    }
   ],
   "source": [
    "plt.plot(hypotheses_b0, posterior[:,max_posterior[1],max_posterior[2]]);\n",
    "plt.title(\"Posterior Distribution for b0\");"
   ]
  },
  {
   "cell_type": "code",
   "execution_count": 40,
   "metadata": {},
   "outputs": [
    {
     "data": {
      "image/png": "[encoded data removed]",
      "text/plain": [
       "<Figure size 432x288 with 1 Axes>"
      ]
     },
     "metadata": {
      "needs_background": "light"
     },
     "output_type": "display_data"
    }
   ],
   "source": [
    "plt.plot(hypotheses_b1, posterior[max_posterior[0],:,max_posterior[2]].T);\n",
    "plt.title(\"Posterior Distribution for b1\");"
   ]
  },
  {
   "cell_type": "code",
   "execution_count": 41,
   "metadata": {},
   "outputs": [
    {
     "name": "stdout",
     "output_type": "stream",
     "text": [
      "b0 with Bayes:[2.30769231]\n",
      "b1 with Bayes:[2.23076923]\n",
      "sigma with Bayes:[1.53907692]\n"
     ]
    }
   ],
   "source": [
    "print(f'b0 with Bayes:{hypotheses_b0[max_posterior[0]]}') \n",
    "print(f'b1 with Bayes:{hypotheses_b1[max_posterior[1]]}') \n",
    "print(f'sigma with Bayes:{hypotheses_s[max_posterior[2]]}') "
   ]
  },
  {
   "cell_type": "markdown",
   "metadata": {},
   "source": [
    "Checking what sklearn returns for slope and intercept for comparison."
   ]
  },
  {
   "cell_type": "code",
   "execution_count": 42,
   "metadata": {},
   "outputs": [],
   "source": [
    "from sklearn.linear_model import LinearRegression"
   ]
  },
  {
   "cell_type": "code",
   "execution_count": 43,
   "metadata": {},
   "outputs": [
    {
     "data": {
      "text/plain": [
       "LinearRegression(copy_X=True, fit_intercept=True, n_jobs=None,\n",
       "         normalize=False)"
      ]
     },
     "execution_count": 43,
     "metadata": {},
     "output_type": "execute_result"
    }
   ],
   "source": [
    "lr = LinearRegression()\n",
    "lr.fit(x.reshape(-1,1), y.reshape(-1,1))"
   ]
  },
  {
   "cell_type": "code",
   "execution_count": 44,
   "metadata": {},
   "outputs": [
    {
     "data": {
      "text/plain": [
       "(array([2.35118567]), array([[2.22603915]]))"
      ]
     },
     "execution_count": 44,
     "metadata": {},
     "output_type": "execute_result"
    }
   ],
   "source": [
    "lr.intercept_, lr.coef_"
   ]
  },
  {
   "cell_type": "markdown",
   "metadata": {},
   "source": [
    "And let's check out some more statistical details using statsmodels"
   ]
  },
  {
   "cell_type": "code",
   "execution_count": 45,
   "metadata": {},
   "outputs": [],
   "source": [
    "import statsmodels.api as sm"
   ]
  },
  {
   "cell_type": "code",
   "execution_count": 46,
   "metadata": {},
   "outputs": [
    {
     "name": "stderr",
     "output_type": "stream",
     "text": [
      "/Users/Henry/anaconda3/lib/python3.7/site-packages/scipy/stats/stats.py:1416: UserWarning: kurtosistest only valid for n>=20 ... continuing anyway, n=10\n",
      "  \"anyway, n=%i\" % int(n))\n"
     ]
    },
    {
     "data": {
      "text/html": [
       "<table class=\"simpletable\">\n",
       "<caption>OLS Regression Results</caption>\n",
       "<tr>\n",
       "  <th>Dep. Variable:</th>            <td>y</td>        <th>  R-squared:         </th> <td>   0.911</td>\n",
       "</tr>\n",
       "<tr>\n",
       "  <th>Model:</th>                   <td>OLS</td>       <th>  Adj. R-squared:    </th> <td>   0.900</td>\n",
       "</tr>\n",
       "<tr>\n",
       "  <th>Method:</th>             <td>Least Squares</td>  <th>  F-statistic:       </th> <td>   81.84</td>\n",
       "</tr>\n",
       "<tr>\n",
       "  <th>Date:</th>             <td>Wed, 31 Jul 2019</td> <th>  Prob (F-statistic):</th> <td>1.78e-05</td>\n",
       "</tr>\n",
       "<tr>\n",
       "  <th>Time:</th>                 <td>21:58:44</td>     <th>  Log-Likelihood:    </th> <td> -18.667</td>\n",
       "</tr>\n",
       "<tr>\n",
       "  <th>No. Observations:</th>      <td>    10</td>      <th>  AIC:               </th> <td>   41.33</td>\n",
       "</tr>\n",
       "<tr>\n",
       "  <th>Df Residuals:</th>          <td>     8</td>      <th>  BIC:               </th> <td>   41.94</td>\n",
       "</tr>\n",
       "<tr>\n",
       "  <th>Df Model:</th>              <td>     1</td>      <th>                     </th>     <td> </td>   \n",
       "</tr>\n",
       "<tr>\n",
       "  <th>Covariance Type:</th>      <td>nonrobust</td>    <th>                     </th>     <td> </td>   \n",
       "</tr>\n",
       "</table>\n",
       "<table class=\"simpletable\">\n",
       "<tr>\n",
       "    <td></td>       <th>coef</th>     <th>std err</th>      <th>t</th>      <th>P>|t|</th>  <th>[0.025</th>    <th>0.975]</th>  \n",
       "</tr>\n",
       "<tr>\n",
       "  <th>const</th> <td>    2.3512</td> <td>    1.510</td> <td>    1.557</td> <td> 0.158</td> <td>   -1.130</td> <td>    5.832</td>\n",
       "</tr>\n",
       "<tr>\n",
       "  <th>x1</th>    <td>    2.2260</td> <td>    0.246</td> <td>    9.046</td> <td> 0.000</td> <td>    1.659</td> <td>    2.793</td>\n",
       "</tr>\n",
       "</table>\n",
       "<table class=\"simpletable\">\n",
       "<tr>\n",
       "  <th>Omnibus:</th>       <td> 0.479</td> <th>  Durbin-Watson:     </th> <td>   1.326</td>\n",
       "</tr>\n",
       "<tr>\n",
       "  <th>Prob(Omnibus):</th> <td> 0.787</td> <th>  Jarque-Bera (JB):  </th> <td>   0.489</td>\n",
       "</tr>\n",
       "<tr>\n",
       "  <th>Skew:</th>          <td> 0.058</td> <th>  Prob(JB):          </th> <td>   0.783</td>\n",
       "</tr>\n",
       "<tr>\n",
       "  <th>Kurtosis:</th>      <td> 1.922</td> <th>  Cond. No.          </th> <td>    17.1</td>\n",
       "</tr>\n",
       "</table><br/><br/>Warnings:<br/>[1] Standard Errors assume that the covariance matrix of the errors is correctly specified."
      ],
      "text/plain": [
       "<class 'statsmodels.iolib.summary.Summary'>\n",
       "\"\"\"\n",
       "                            OLS Regression Results                            \n",
       "==============================================================================\n",
       "Dep. Variable:                      y   R-squared:                       0.911\n",
       "Model:                            OLS   Adj. R-squared:                  0.900\n",
       "Method:                 Least Squares   F-statistic:                     81.84\n",
       "Date:                Wed, 31 Jul 2019   Prob (F-statistic):           1.78e-05\n",
       "Time:                        21:58:44   Log-Likelihood:                -18.667\n",
       "No. Observations:                  10   AIC:                             41.33\n",
       "Df Residuals:                       8   BIC:                             41.94\n",
       "Df Model:                           1                                         \n",
       "Covariance Type:            nonrobust                                         \n",
       "==============================================================================\n",
       "                 coef    std err          t      P>|t|      [0.025      0.975]\n",
       "------------------------------------------------------------------------------\n",
       "const          2.3512      1.510      1.557      0.158      -1.130       5.832\n",
       "x1             2.2260      0.246      9.046      0.000       1.659       2.793\n",
       "==============================================================================\n",
       "Omnibus:                        0.479   Durbin-Watson:                   1.326\n",
       "Prob(Omnibus):                  0.787   Jarque-Bera (JB):                0.489\n",
       "Skew:                           0.058   Prob(JB):                        0.783\n",
       "Kurtosis:                       1.922   Cond. No.                         17.1\n",
       "==============================================================================\n",
       "\n",
       "Warnings:\n",
       "[1] Standard Errors assume that the covariance matrix of the errors is correctly specified.\n",
       "\"\"\""
      ]
     },
     "execution_count": 46,
     "metadata": {},
     "output_type": "execute_result"
    }
   ],
   "source": [
    "x1 = sm.add_constant(x)\n",
    "sm.OLS(y, x1).fit().summary()"
   ]
  },
  {
   "cell_type": "code",
   "execution_count": null,
   "metadata": {},
   "outputs": [],
   "source": []
  }
 ],
 "metadata": {
  "kernelspec": {
   "display_name": "Python 3",
   "language": "python",
   "name": "python3"
  },
  "language_info": {
   "codemirror_mode": {
    "name": "ipython",
    "version": 3
   },
   "file_extension": ".py",
   "mimetype": "text/x-python",
   "name": "python",
   "nbconvert_exporter": "python",
   "pygments_lexer": "ipython3",
   "version": "3.7.3"
  }
 },
 "nbformat": 4,
 "nbformat_minor": 4
}
