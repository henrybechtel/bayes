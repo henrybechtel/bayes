{
 "cells": [
  {
   "cell_type": "markdown",
   "metadata": {},
   "source": [
    "# Introduction to Bayesian Analysis via Grid Methods"
   ]
  },
  {
   "cell_type": "markdown",
   "metadata": {},
   "source": [
    "by Henry Bechtel \n",
    "\n",
    "Many introductions to Bayesian analysis can either be too simplistic or too complex. I think grid methods offer great insight into how Bayesian analysis works that can go beyond simple, toy examples and can also show why MCMC methods are required for more complex problems.\n",
    "\n",
    "Inspired from work by Allen Downey and Brandon Rohrer"
   ]
  },
  {
   "cell_type": "code",
   "execution_count": 1,
   "metadata": {},
   "outputs": [],
   "source": [
    "import numpy as np\n",
    "import scipy.stats as stats\n",
    "import matplotlib.pyplot as plt"
   ]
  },
  {
   "cell_type": "markdown",
   "metadata": {},
   "source": [
    "## Biased Coins\n",
    "Let's say we have some obervations of coin flips"
   ]
  },
  {
   "cell_type": "code",
   "execution_count": 2,
   "metadata": {},
   "outputs": [],
   "source": [
    "observations = np.array([1,0,1,1,1,0])\n",
    "positive_obs = sum(observations)\n",
    "total_obs = len(observations)"
   ]
  },
  {
   "cell_type": "code",
   "execution_count": 3,
   "metadata": {},
   "outputs": [],
   "source": [
    "number_of_hypotheses = 100\n",
    "hypotheses = np.linspace(0,1, number_of_hypotheses)"
   ]
  },
  {
   "cell_type": "markdown",
   "metadata": {},
   "source": [
    "You know what... let's do something more interesting"
   ]
  },
  {
   "cell_type": "markdown",
   "metadata": {},
   "source": [
    "## Measurement Errors"
   ]
  },
  {
   "cell_type": "markdown",
   "metadata": {},
   "source": [
    "Let's look at a more complex example. Here we are going to simulate a guassian process with some known parameters that we will try to recover."
   ]
  },
  {
   "cell_type": "code",
   "execution_count": 4,
   "metadata": {},
   "outputs": [],
   "source": [
    "def gaussian_process(mean_true=15, sd_true=2):\n",
    "    return mean_true + np.random.randn()*sd_true "
   ]
  },
  {
   "cell_type": "code",
   "execution_count": 5,
   "metadata": {},
   "outputs": [
    {
     "data": {
      "text/plain": [
       "19.935685857035363"
      ]
     },
     "execution_count": 5,
     "metadata": {},
     "output_type": "execute_result"
    }
   ],
   "source": [
    "gaussian_process()"
   ]
  },
  {
   "cell_type": "markdown",
   "metadata": {},
   "source": [
    "Let's make sure this looks the way we'd expect in the long run:"
   ]
  },
  {
   "cell_type": "code",
   "execution_count": 6,
   "metadata": {},
   "outputs": [
    {
     "data": {
      "image/png": "[encoded data removed]",
      "text/plain": [
       "<Figure size 432x288 with 1 Axes>"
      ]
     },
     "metadata": {
      "needs_background": "light"
     },
     "output_type": "display_data"
    }
   ],
   "source": [
    "measurements = []\n",
    "for i in range(10000):\n",
    "    measurements.append(gaussian_process())\n",
    "    \n",
    "plt.hist(measurements, bins=50);"
   ]
  },
  {
   "cell_type": "markdown",
   "metadata": {},
   "source": [
    "Ok cool. Now let's say we only saw 5 observations."
   ]
  },
  {
   "cell_type": "code",
   "execution_count": 7,
   "metadata": {},
   "outputs": [
    {
     "data": {
      "text/plain": [
       "[12.981208558476212,\n",
       " 16.06964121156527,\n",
       " 15.276750006098865,\n",
       " 16.04783581261528,\n",
       " 14.72669107560982]"
      ]
     },
     "execution_count": 7,
     "metadata": {},
     "output_type": "execute_result"
    }
   ],
   "source": [
    "observations = []\n",
    "for i in range(5):\n",
    "    observations.append(gaussian_process())\n",
    "observations    "
   ]
  },
  {
   "cell_type": "markdown",
   "metadata": {},
   "source": [
    "First let's take a standard approach and take the mean and standard deviation. We could stop here and generate a normal distribution that quantified our beleif in what the true paramters are."
   ]
  },
  {
   "cell_type": "code",
   "execution_count": 8,
   "metadata": {},
   "outputs": [
    {
     "data": {
      "text/plain": [
       "(15.020425332873089, 1.1372610482171446)"
      ]
     },
     "execution_count": 8,
     "metadata": {},
     "output_type": "execute_result"
    }
   ],
   "source": [
    "np.mean(observations), np.std(observations)"
   ]
  },
  {
   "cell_type": "markdown",
   "metadata": {},
   "source": [
    "But let's get our Bayes on and incorporate a prior. We'll keep it flat for now, but this will still give us a better idea about how our hypotheses are likely to be distributed."
   ]
  },
  {
   "cell_type": "markdown",
   "metadata": {},
   "source": [
    "Setting up our \"grid\" for two parameters we are trying to infer"
   ]
  },
  {
   "cell_type": "code",
   "execution_count": 9,
   "metadata": {},
   "outputs": [],
   "source": [
    "hypotheses_1 = np.linspace(12,18,100) #These are all the means we want to test\n",
    "hypotheses_2 = np.linspace(0.001,4,100) #These are all the standard deviations we want to test"
   ]
  },
  {
   "cell_type": "code",
   "execution_count": 10,
   "metadata": {},
   "outputs": [],
   "source": [
    "prior = np.ones([len(hypotheses_1),len(hypotheses_2)]) # Here we are choosing a flat prior"
   ]
  },
  {
   "cell_type": "code",
   "execution_count": 11,
   "metadata": {},
   "outputs": [],
   "source": [
    "unnormalized_posterior = np.zeros([len(hypotheses_1),len(hypotheses_2)])"
   ]
  },
  {
   "cell_type": "code",
   "execution_count": 12,
   "metadata": {},
   "outputs": [],
   "source": [
    "marginal_likelihood = 0\n",
    "for i in range(len(hypotheses_1)):\n",
    "    mean = hypotheses_1[i]\n",
    "    for j in range(len(hypotheses_2)):\n",
    "        sd = hypotheses_2[j]\n",
    "        unnormalized_likelihood = 1\n",
    "        for x in observations:\n",
    "            unnormalized_likelihood *= stats.distributions.norm.pdf(x,mean,sd)\n",
    "        marginal_likelihood += unnormalized_likelihood*prior[i,j] \n",
    "        unnormalized_posterior[i,j] = unnormalized_likelihood*prior[i,j]        \n",
    "\n",
    "posterior = unnormalized_posterior/marginal_likelihood"
   ]
  },
  {
   "cell_type": "markdown",
   "metadata": {},
   "source": [
    "Let's check that our posterior integrates to 1."
   ]
  },
  {
   "cell_type": "code",
   "execution_count": 13,
   "metadata": {},
   "outputs": [
    {
     "data": {
      "text/plain": [
       "0.9999999999999976"
      ]
     },
     "execution_count": 13,
     "metadata": {},
     "output_type": "execute_result"
    }
   ],
   "source": [
    "sum(sum(posterior))"
   ]
  },
  {
   "cell_type": "markdown",
   "metadata": {},
   "source": [
    "Let's find where the maximum probabilities are located in our grid."
   ]
  },
  {
   "cell_type": "code",
   "execution_count": 14,
   "metadata": {},
   "outputs": [
    {
     "data": {
      "text/plain": [
       "(array([50]), array([28]))"
      ]
     },
     "execution_count": 14,
     "metadata": {},
     "output_type": "execute_result"
    }
   ],
   "source": [
    "max_posterior = np.where(posterior == np.amax(posterior))\n",
    "max_posterior"
   ]
  },
  {
   "cell_type": "markdown",
   "metadata": {},
   "source": [
    "Let's check the point estimates of our grid method and compare with the standard calculations."
   ]
  },
  {
   "cell_type": "code",
   "execution_count": 15,
   "metadata": {},
   "outputs": [
    {
     "name": "stdout",
     "output_type": "stream",
     "text": [
      "Mean of obervations:15.020425332873089, Mean with Bayes:[15.03030303]\n",
      "Std Dev of obervations:1.1372610482171446, Std Dev estimated with Bayes:[1.1320303]\n"
     ]
    }
   ],
   "source": [
    "print(f'Mean of obervations:{np.mean(observations)}, Mean with Bayes:{hypotheses_1[max_posterior[0]]}' )\n",
    "print(f'Std Dev of obervations:{np.std(observations)}, Std Dev estimated with Bayes:{hypotheses_2[max_posterior[1]]}')"
   ]
  },
  {
   "cell_type": "markdown",
   "metadata": {},
   "source": [
    "Nice. Pretty similar... So why did we go through all that trouble to just get the same point estimates? Well, that's not all we get! We also get a posterior distribution for each of our parameters of interest."
   ]
  },
  {
   "cell_type": "code",
   "execution_count": 16,
   "metadata": {},
   "outputs": [
    {
     "data": {
      "image/png": "[encoded data removed]",
      "text/plain": [
       "<Figure size 432x288 with 1 Axes>"
      ]
     },
     "metadata": {
      "needs_background": "light"
     },
     "output_type": "display_data"
    }
   ],
   "source": [
    "plt.plot(hypotheses_1, unnormalized_posterior[:,max_posterior[1]]);\n",
    "plt.title(\"Posterior Distribution for the Mean\");"
   ]
  },
  {
   "cell_type": "code",
   "execution_count": 17,
   "metadata": {},
   "outputs": [
    {
     "data": {
      "image/png": "[encoded data removed]",
      "text/plain": [
       "<Figure size 432x288 with 1 Axes>"
      ]
     },
     "metadata": {
      "needs_background": "light"
     },
     "output_type": "display_data"
    }
   ],
   "source": [
    "plt.plot(hypotheses_2, posterior[max_posterior[0],:].T);\n",
    "plt.title(\"Posterior Distribution for the Standard Deviation\");"
   ]
  },
  {
   "cell_type": "markdown",
   "metadata": {},
   "source": [
    "Sweet. Now let's look at what our 2D prior and posterior distribution looks like with a contour plot."
   ]
  },
  {
   "cell_type": "code",
   "execution_count": 18,
   "metadata": {},
   "outputs": [
    {
     "data": {
      "text/plain": [
       "Text(0, 0.5, 'Probabilty')"
      ]
     },
     "execution_count": 18,
     "metadata": {},
     "output_type": "execute_result"
    },
    {
     "data": {
      "image/png": "[encoded data removed]",
      "text/plain": [
       "<Figure size 1080x432 with 3 Axes>"
      ]
     },
     "metadata": {
      "needs_background": "light"
     },
     "output_type": "display_data"
    }
   ],
   "source": [
    "fig, ax = plt.subplots(1,2, figsize=(15,6))\n",
    "X, Y = np.meshgrid(hypotheses_2, hypotheses_1)\n",
    "ax[0].set_title('Prior Distribution')\n",
    "ax[0].contourf(X,Y, prior);\n",
    "ax[1].set_title('Posterior Distribution')\n",
    "CS = ax[1].contourf(X,Y, posterior);\n",
    "cbar = fig.colorbar(CS)\n",
    "cbar.ax.set_ylabel('Probabilty')"
   ]
  },
  {
   "cell_type": "code",
   "execution_count": null,
   "metadata": {},
   "outputs": [],
   "source": []
  },
  {
   "cell_type": "markdown",
   "metadata": {},
   "source": [
    "# Linear Regression"
   ]
  },
  {
   "cell_type": "markdown",
   "metadata": {},
   "source": [
    "Ok, let's step it up another notch and see if we can perform linear regression using only a Bayesian grid. "
   ]
  },
  {
   "cell_type": "markdown",
   "metadata": {},
   "source": [
    "Again we're going to generate simulated data so we can know how we are doing with our Bayesian inference."
   ]
  },
  {
   "cell_type": "code",
   "execution_count": 19,
   "metadata": {},
   "outputs": [
    {
     "data": {
      "image/png": "[encoded data removed]",
      "text/plain": [
       "<Figure size 432x288 with 1 Axes>"
      ]
     },
     "metadata": {
      "needs_background": "light"
     },
     "output_type": "display_data"
    }
   ],
   "source": [
    "b0_true = 4\n",
    "b1_true = 2\n",
    "sigma_true = 3\n",
    "\n",
    "x = np.random.normal(20,2,10)\n",
    "y = b0_true + b1_true*x + np.random.randn(len(x))*sigma_true\n",
    "\n",
    "plt.scatter(x,y);"
   ]
  },
  {
   "cell_type": "markdown",
   "metadata": {},
   "source": [
    "Now we have three parameters that we will have a range hypothesis for: Slope, intercept, and sigma.\n",
    "\n",
    "Setting up our grid:"
   ]
  },
  {
   "cell_type": "code",
   "execution_count": 20,
   "metadata": {},
   "outputs": [],
   "source": [
    "hypotheses_b0 = np.linspace(0,10,100) #These are all the intercepts we want to test\n",
    "hypotheses_b1 = np.linspace(-10,10,100) #These are all the slopes we want to test\n",
    "hypotheses_s = np.linspace(0.001,4,100) #These are all the standard deviations we want to test"
   ]
  },
  {
   "cell_type": "code",
   "execution_count": 21,
   "metadata": {},
   "outputs": [],
   "source": [
    "prior = np.ones([len(hypotheses_b0), len(hypotheses_b1),len(hypotheses_s)]) # Flat prior"
   ]
  },
  {
   "cell_type": "code",
   "execution_count": 22,
   "metadata": {},
   "outputs": [],
   "source": [
    "unnormalized_posterior = np.zeros([len(hypotheses_b0), len(hypotheses_b1),len(hypotheses_s)])"
   ]
  },
  {
   "cell_type": "markdown",
   "metadata": {},
   "source": [
    "... under construction"
   ]
  },
  {
   "cell_type": "code",
   "execution_count": null,
   "metadata": {},
   "outputs": [],
   "source": []
  }
 ],
 "metadata": {
  "kernelspec": {
   "display_name": "Python 3",
   "language": "python",
   "name": "python3"
  },
  "language_info": {
   "codemirror_mode": {
    "name": "ipython",
    "version": 3
   },
   "file_extension": ".py",
   "mimetype": "text/x-python",
   "name": "python",
   "nbconvert_exporter": "python",
   "pygments_lexer": "ipython3",
   "version": "3.7.3"
  }
 },
 "nbformat": 4,
 "nbformat_minor": 4
}
