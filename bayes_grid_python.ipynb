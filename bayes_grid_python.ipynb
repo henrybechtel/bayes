{
 "cells": [
  {
   "cell_type": "markdown",
   "metadata": {},
   "source": [
    "# Introduction to Bayesian Analysis via Grid Methods"
   ]
  },
  {
   "cell_type": "markdown",
   "metadata": {},
   "source": [
    "by Henry Bechtel \n",
    "\n",
    "Many introductions to Bayesian analysis can either be too simplistic or too complex. I think grid methods offer great insight into how Bayesian analysis works that can go beyond simple, toy examples and can also show why MCMC methods are required for more complex problems.\n",
    "\n",
    "Special thanks to excellent, inspirational work by Allen Downey and Brandon Rohrer."
   ]
  },
  {
   "cell_type": "code",
   "execution_count": 1,
   "metadata": {},
   "outputs": [],
   "source": [
    "import numpy as np\n",
    "import scipy.stats as stats\n",
    "import matplotlib.pyplot as plt"
   ]
  },
  {
   "cell_type": "markdown",
   "metadata": {},
   "source": [
    "## Biased Coins\n",
    "Let's say we have some obervations of coin flips."
   ]
  },
  {
   "cell_type": "code",
   "execution_count": 2,
   "metadata": {},
   "outputs": [],
   "source": [
    "observations = np.array([1,0,1,1,1,0])\n",
    "positive_obs = sum(observations)\n",
    "total_obs = len(observations)"
   ]
  },
  {
   "cell_type": "code",
   "execution_count": 3,
   "metadata": {},
   "outputs": [],
   "source": [
    "number_of_hypotheses = 100\n",
    "hypotheses = np.linspace(0,1, number_of_hypotheses)"
   ]
  },
  {
   "cell_type": "markdown",
   "metadata": {},
   "source": [
    "You know what... let's do something more interesting."
   ]
  },
  {
   "cell_type": "markdown",
   "metadata": {},
   "source": [
    "## Measurement Errors"
   ]
  },
  {
   "cell_type": "markdown",
   "metadata": {},
   "source": [
    "Let's look at a more complex example. Here we are going to simulate a guassian process with some known parameters that we will try to recover.\n",
    "\n",
    "Let's say we only saw 5 observations."
   ]
  },
  {
   "cell_type": "code",
   "execution_count": 44,
   "metadata": {},
   "outputs": [
    {
     "data": {
      "text/plain": [
       "array([16.53010969, 13.34202233, 13.68169738, 16.2222471 , 14.71197331])"
      ]
     },
     "execution_count": 44,
     "metadata": {},
     "output_type": "execute_result"
    }
   ],
   "source": [
    "mean_true=15\n",
    "sd_true=2\n",
    "\n",
    "observations = np.random.normal(mean_true, sd_true, 5)\n",
    "observations"
   ]
  },
  {
   "cell_type": "markdown",
   "metadata": {},
   "source": [
    "First let's take a standard approach and take the mean and standard deviation or our observed samples. We could stop here and generate a normal distribution that quantified our beleif in what the true paramters are."
   ]
  },
  {
   "cell_type": "code",
   "execution_count": 45,
   "metadata": {},
   "outputs": [
    {
     "data": {
      "text/plain": [
       "(14.897609961645992, 1.2924763957673868)"
      ]
     },
     "execution_count": 45,
     "metadata": {},
     "output_type": "execute_result"
    }
   ],
   "source": [
    "np.mean(observations), np.std(observations)"
   ]
  },
  {
   "cell_type": "markdown",
   "metadata": {},
   "source": [
    "But let's get our Bayes on and incorporate a prior. We'll keep it flat for now, but this will still give us a better idea about how our hypotheses are likely to be distributed."
   ]
  },
  {
   "cell_type": "markdown",
   "metadata": {},
   "source": [
    "Setting up our \"grid\" for two parameters we are trying to infer"
   ]
  },
  {
   "cell_type": "code",
   "execution_count": 46,
   "metadata": {},
   "outputs": [],
   "source": [
    "hypotheses_1 = np.linspace(12,18,100) #These are all the means we want to test\n",
    "hypotheses_2 = np.linspace(0.001,4,100) #These are all the standard deviations we want to test"
   ]
  },
  {
   "cell_type": "code",
   "execution_count": 47,
   "metadata": {},
   "outputs": [],
   "source": [
    "prior = np.ones([len(hypotheses_1),len(hypotheses_2)]) # Here we are choosing a flat prior"
   ]
  },
  {
   "cell_type": "code",
   "execution_count": 48,
   "metadata": {},
   "outputs": [],
   "source": [
    "unnormalized_posterior = np.zeros([len(hypotheses_1),len(hypotheses_2)])"
   ]
  },
  {
   "cell_type": "code",
   "execution_count": 49,
   "metadata": {},
   "outputs": [],
   "source": [
    "marginal_likelihood = 0\n",
    "for i in range(len(hypotheses_1)):\n",
    "    mean = hypotheses_1[i]\n",
    "    for j in range(len(hypotheses_2)):\n",
    "        sd = hypotheses_2[j]\n",
    "        unnormalized_likelihood = 1\n",
    "        for x in observations:\n",
    "            unnormalized_likelihood *= stats.distributions.norm.pdf(x,mean,sd)\n",
    "        unnormalized_posterior[i,j] = unnormalized_likelihood*prior[i,j]        \n",
    "        marginal_likelihood += unnormalized_likelihood*prior[i,j] \n",
    "        \n",
    "posterior = unnormalized_posterior/marginal_likelihood"
   ]
  },
  {
   "cell_type": "markdown",
   "metadata": {},
   "source": [
    "Let's check that our posterior integrates to 1."
   ]
  },
  {
   "cell_type": "code",
   "execution_count": 50,
   "metadata": {},
   "outputs": [
    {
     "data": {
      "text/plain": [
       "1.0000000000000027"
      ]
     },
     "execution_count": 50,
     "metadata": {},
     "output_type": "execute_result"
    }
   ],
   "source": [
    "sum(sum(posterior))"
   ]
  },
  {
   "cell_type": "markdown",
   "metadata": {},
   "source": [
    "Let's find where the maximum probabilities are located in our grid."
   ]
  },
  {
   "cell_type": "code",
   "execution_count": 51,
   "metadata": {},
   "outputs": [
    {
     "data": {
      "text/plain": [
       "(array([48]), array([32]))"
      ]
     },
     "execution_count": 51,
     "metadata": {},
     "output_type": "execute_result"
    }
   ],
   "source": [
    "max_posterior = np.where(posterior == np.amax(posterior))\n",
    "max_posterior"
   ]
  },
  {
   "cell_type": "markdown",
   "metadata": {},
   "source": [
    "Let's check the point estimates of our grid method and compare with the standard calculations."
   ]
  },
  {
   "cell_type": "code",
   "execution_count": 52,
   "metadata": {},
   "outputs": [
    {
     "name": "stdout",
     "output_type": "stream",
     "text": [
      "Mean of obervations:14.897609961645992, Mean with Bayes:[14.90909091]\n",
      "Std Dev of obervations:1.2924763957673868, Std Dev estimated with Bayes:[1.29360606]\n"
     ]
    }
   ],
   "source": [
    "print(f'Mean of obervations:{np.mean(observations)}, Mean with Bayes:{hypotheses_1[max_posterior[0]]}' )\n",
    "print(f'Std Dev of obervations:{np.std(observations)}, Std Dev estimated with Bayes:{hypotheses_2[max_posterior[1]]}')"
   ]
  },
  {
   "cell_type": "markdown",
   "metadata": {},
   "source": [
    "Nice. Pretty similar... So why did we go through all that trouble to just get the same point estimates? Well, that's not all we get! We also get a posterior distribution for each of our parameters of interest."
   ]
  },
  {
   "cell_type": "code",
   "execution_count": 53,
   "metadata": {},
   "outputs": [
    {
     "data": {
      "image/png": "[encoded data removed]",
      "text/plain": [
       "<Figure size 432x288 with 1 Axes>"
      ]
     },
     "metadata": {},
     "output_type": "display_data"
    }
   ],
   "source": [
    "plt.plot(hypotheses_1, posterior[:,max_posterior[1]]);\n",
    "plt.title(\"Posterior Distribution for the Mean\");"
   ]
  },
  {
   "cell_type": "code",
   "execution_count": 54,
   "metadata": {},
   "outputs": [
    {
     "data": {
      "image/png": "[encoded data removed]",
      "text/plain": [
       "<Figure size 432x288 with 1 Axes>"
      ]
     },
     "metadata": {},
     "output_type": "display_data"
    }
   ],
   "source": [
    "plt.plot(hypotheses_2, posterior[max_posterior[0],:].T);\n",
    "plt.title(\"Posterior Distribution for the Standard Deviation\");"
   ]
  },
  {
   "cell_type": "markdown",
   "metadata": {},
   "source": [
    "Sweet. Now let's look at what our 2D prior and posterior distribution looks like with a contour plot."
   ]
  },
  {
   "cell_type": "code",
   "execution_count": 55,
   "metadata": {},
   "outputs": [
    {
     "data": {
      "text/plain": [
       "Text(0, 0.5, 'Probabilty')"
      ]
     },
     "execution_count": 55,
     "metadata": {},
     "output_type": "execute_result"
    },
    {
     "data": {
      "image/png": "[encoded data removed]",
      "text/plain": [
       "<Figure size 1080x432 with 3 Axes>"
      ]
     },
     "metadata": {},
     "output_type": "display_data"
    }
   ],
   "source": [
    "fig, ax = plt.subplots(1,2, figsize=(15,6))\n",
    "X, Y = np.meshgrid(hypotheses_2, hypotheses_1)\n",
    "ax[0].set_title('Prior Distribution')\n",
    "ax[0].contourf(X,Y, prior);\n",
    "ax[1].set_title('Posterior Distribution')\n",
    "CS = ax[1].contourf(X,Y, posterior);\n",
    "cbar = fig.colorbar(CS)\n",
    "cbar.ax.set_ylabel('Probabilty')"
   ]
  },
  {
   "cell_type": "markdown",
   "metadata": {},
   "source": [
    "# Linear Regression"
   ]
  },
  {
   "cell_type": "markdown",
   "metadata": {},
   "source": [
    "Ok, let's step it up another notch and see if we can perform linear regression using only Bayes Rule, a normal pdf, and for-loops. Again, we're going to generate simulated data so we can know how we are doing with our Bayesian inference."
   ]
  },
  {
   "cell_type": "raw",
   "metadata": {},
   "source": [
    "b0_true = 4\n",
    "b1_true = 2\n",
    "sigma_true = 2\n",
    "\n",
    "x = np.random.normal(6,2,10)\n",
    "y = b0_true + b1_true*x + np.random.randn(len(x))*sigma_true\n",
    "\n",
    "plt.scatter(x,y);"
   ]
  },
  {
   "cell_type": "code",
   "execution_count": 22,
   "metadata": {},
   "outputs": [
    {
     "data": {
      "image/png": "[encoded data removed]",
      "text/plain": [
       "<Figure size 432x288 with 1 Axes>"
      ]
     },
     "metadata": {
      "needs_background": "light"
     },
     "output_type": "display_data"
    }
   ],
   "source": [
    "x = np.array([10.506, 13.9605, 10.0248, 9.21246, 13.5658, 12.2118, 12.5068, 15.1448, 11.0734, 14.3051]) \n",
    "y = np.array([37.7241, 47.5949, 30.2924, 33.1214, 43.6333, 38.6968, 43.5251, 49.5484, 39.088, 46.0416])\n",
    "\n",
    "plt.scatter(x,y);"
   ]
  },
  {
   "cell_type": "markdown",
   "metadata": {},
   "source": [
    "Now we have three parameters that we will have a range of hypotheses for: Slope, intercept, and sigma.\n",
    "\n",
    "Setting up our grid of hypotheses:"
   ]
  },
  {
   "cell_type": "code",
   "execution_count": 23,
   "metadata": {},
   "outputs": [],
   "source": [
    "hypotheses_b0 = np.linspace(2,6,40) #These are all the intercepts we want to test\n",
    "hypotheses_b1 = np.linspace(1,4,40) #These are all the slopes we want to test\n",
    "hypotheses_s = np.linspace(0.001,4,40) #These are all the standard deviations we want to test"
   ]
  },
  {
   "cell_type": "code",
   "execution_count": 24,
   "metadata": {},
   "outputs": [],
   "source": [
    "prior = np.ones([len(hypotheses_b0), len(hypotheses_b1),len(hypotheses_s)]) # Flat prior"
   ]
  },
  {
   "cell_type": "code",
   "execution_count": 25,
   "metadata": {},
   "outputs": [],
   "source": [
    "unnormalized_posterior = np.zeros([len(hypotheses_b0), len(hypotheses_b1),len(hypotheses_s)])"
   ]
  },
  {
   "cell_type": "markdown",
   "metadata": {},
   "source": [
    "Now to loop through all combinations of parameters"
   ]
  },
  {
   "cell_type": "code",
   "execution_count": 26,
   "metadata": {},
   "outputs": [],
   "source": [
    "marginal_likelihood = 0\n",
    "for i in range(len(hypotheses_b0)):\n",
    "    b0 = hypotheses_b0[i]\n",
    "    for j in range(len(hypotheses_b1)):\n",
    "        b1 = hypotheses_b1[j]\n",
    "        for k in range(len(hypotheses_s)):\n",
    "            s = hypotheses_s[k]\n",
    "            unnormalized_likelihood = 1 \n",
    "            for d in range(len(x)):\n",
    "                unnormalized_likelihood *= stats.distributions.norm.pdf(y[d],loc=b0+b1*x[d],scale=s)\n",
    "            unnormalized_posterior[i, j, k] = unnormalized_likelihood*prior[i, j, k]\n",
    "            marginal_likelihood += unnormalized_likelihood*prior[i, j, k]   \n",
    "                \n",
    "posterior = unnormalized_posterior/marginal_likelihood"
   ]
  },
  {
   "cell_type": "code",
   "execution_count": 27,
   "metadata": {},
   "outputs": [
    {
     "data": {
      "text/plain": [
       "1.0000000000000089"
      ]
     },
     "execution_count": 27,
     "metadata": {},
     "output_type": "execute_result"
    }
   ],
   "source": [
    "sum(sum(sum(posterior)))"
   ]
  },
  {
   "cell_type": "code",
   "execution_count": 28,
   "metadata": {},
   "outputs": [
    {
     "data": {
      "text/plain": [
       "(array([30]), array([25]), array([19]))"
      ]
     },
     "execution_count": 28,
     "metadata": {},
     "output_type": "execute_result"
    }
   ],
   "source": [
    "max_posterior = np.where(posterior == np.amax(posterior))\n",
    "max_posterior"
   ]
  },
  {
   "cell_type": "code",
   "execution_count": 29,
   "metadata": {},
   "outputs": [
    {
     "data": {
      "image/png": "[encoded data removed]",
      "text/plain": [
       "<Figure size 432x288 with 1 Axes>"
      ]
     },
     "metadata": {
      "needs_background": "light"
     },
     "output_type": "display_data"
    }
   ],
   "source": [
    "plt.plot(hypotheses_b0, posterior[:,max_posterior[1],max_posterior[2]]);\n",
    "plt.title(\"Posterior Distribution for b0\");"
   ]
  },
  {
   "cell_type": "code",
   "execution_count": 30,
   "metadata": {},
   "outputs": [
    {
     "data": {
      "image/png": "[encoded data removed]",
      "text/plain": [
       "<Figure size 432x288 with 1 Axes>"
      ]
     },
     "metadata": {
      "needs_background": "light"
     },
     "output_type": "display_data"
    }
   ],
   "source": [
    "plt.plot(hypotheses_b1, posterior[max_posterior[0],:,max_posterior[2]].T);\n",
    "plt.title(\"Posterior Distribution for b1\");"
   ]
  },
  {
   "cell_type": "code",
   "execution_count": 31,
   "metadata": {},
   "outputs": [
    {
     "name": "stdout",
     "output_type": "stream",
     "text": [
      "b0 with Bayes:[5.07692308]\n",
      "b1 with Bayes:[2.92307692]\n",
      "sigma with Bayes:[1.94923077]\n"
     ]
    }
   ],
   "source": [
    "print(f'b0 with Bayes:{hypotheses_b0[max_posterior[0]]}') \n",
    "print(f'b1 with Bayes:{hypotheses_b1[max_posterior[1]]}') \n",
    "print(f'sigma with Bayes:{hypotheses_s[max_posterior[2]]}') "
   ]
  },
  {
   "cell_type": "markdown",
   "metadata": {},
   "source": [
    "Checking what sklearn returns for slope and intercept for comparison."
   ]
  },
  {
   "cell_type": "code",
   "execution_count": 32,
   "metadata": {},
   "outputs": [],
   "source": [
    "from sklearn.linear_model import LinearRegression"
   ]
  },
  {
   "cell_type": "code",
   "execution_count": 33,
   "metadata": {},
   "outputs": [
    {
     "data": {
      "text/plain": [
       "LinearRegression(copy_X=True, fit_intercept=True, n_jobs=None,\n",
       "         normalize=False)"
      ]
     },
     "execution_count": 33,
     "metadata": {},
     "output_type": "execute_result"
    }
   ],
   "source": [
    "lr = LinearRegression()\n",
    "lr.fit(x.reshape(-1,1), y.reshape(-1,1))"
   ]
  },
  {
   "cell_type": "code",
   "execution_count": 34,
   "metadata": {},
   "outputs": [
    {
     "data": {
      "text/plain": [
       "(array([4.67954207]), array([[2.95866672]]))"
      ]
     },
     "execution_count": 34,
     "metadata": {},
     "output_type": "execute_result"
    }
   ],
   "source": [
    "lr.intercept_, lr.coef_"
   ]
  },
  {
   "cell_type": "markdown",
   "metadata": {},
   "source": [
    "And let's check out some more statistical details using statsmodels"
   ]
  },
  {
   "cell_type": "code",
   "execution_count": 35,
   "metadata": {},
   "outputs": [],
   "source": [
    "import statsmodels.api as sm"
   ]
  },
  {
   "cell_type": "code",
   "execution_count": 36,
   "metadata": {},
   "outputs": [
    {
     "name": "stderr",
     "output_type": "stream",
     "text": [
      "/Users/Henry/anaconda3/lib/python3.7/site-packages/scipy/stats/stats.py:1416: UserWarning: kurtosistest only valid for n>=20 ... continuing anyway, n=10\n",
      "  \"anyway, n=%i\" % int(n))\n"
     ]
    },
    {
     "data": {
      "text/html": [
       "<table class=\"simpletable\">\n",
       "<caption>OLS Regression Results</caption>\n",
       "<tr>\n",
       "  <th>Dep. Variable:</th>            <td>y</td>        <th>  R-squared:         </th> <td>   0.894</td>\n",
       "</tr>\n",
       "<tr>\n",
       "  <th>Model:</th>                   <td>OLS</td>       <th>  Adj. R-squared:    </th> <td>   0.881</td>\n",
       "</tr>\n",
       "<tr>\n",
       "  <th>Method:</th>             <td>Least Squares</td>  <th>  F-statistic:       </th> <td>   67.79</td>\n",
       "</tr>\n",
       "<tr>\n",
       "  <th>Date:</th>             <td>Fri, 02 Aug 2019</td> <th>  Prob (F-statistic):</th> <td>3.55e-05</td>\n",
       "</tr>\n",
       "<tr>\n",
       "  <th>Time:</th>                 <td>19:45:29</td>     <th>  Log-Likelihood:    </th> <td> -20.747</td>\n",
       "</tr>\n",
       "<tr>\n",
       "  <th>No. Observations:</th>      <td>    10</td>      <th>  AIC:               </th> <td>   45.49</td>\n",
       "</tr>\n",
       "<tr>\n",
       "  <th>Df Residuals:</th>          <td>     8</td>      <th>  BIC:               </th> <td>   46.10</td>\n",
       "</tr>\n",
       "<tr>\n",
       "  <th>Df Model:</th>              <td>     1</td>      <th>                     </th>     <td> </td>   \n",
       "</tr>\n",
       "<tr>\n",
       "  <th>Covariance Type:</th>      <td>nonrobust</td>    <th>                     </th>     <td> </td>   \n",
       "</tr>\n",
       "</table>\n",
       "<table class=\"simpletable\">\n",
       "<tr>\n",
       "    <td></td>       <th>coef</th>     <th>std err</th>      <th>t</th>      <th>P>|t|</th>  <th>[0.025</th>    <th>0.975]</th>  \n",
       "</tr>\n",
       "<tr>\n",
       "  <th>const</th> <td>    4.6795</td> <td>    4.455</td> <td>    1.050</td> <td> 0.324</td> <td>   -5.594</td> <td>   14.953</td>\n",
       "</tr>\n",
       "<tr>\n",
       "  <th>x1</th>    <td>    2.9587</td> <td>    0.359</td> <td>    8.233</td> <td> 0.000</td> <td>    2.130</td> <td>    3.787</td>\n",
       "</tr>\n",
       "</table>\n",
       "<table class=\"simpletable\">\n",
       "<tr>\n",
       "  <th>Omnibus:</th>       <td> 1.785</td> <th>  Durbin-Watson:     </th> <td>   2.536</td>\n",
       "</tr>\n",
       "<tr>\n",
       "  <th>Prob(Omnibus):</th> <td> 0.410</td> <th>  Jarque-Bera (JB):  </th> <td>   1.097</td>\n",
       "</tr>\n",
       "<tr>\n",
       "  <th>Skew:</th>          <td>-0.758</td> <th>  Prob(JB):          </th> <td>   0.578</td>\n",
       "</tr>\n",
       "<tr>\n",
       "  <th>Kurtosis:</th>      <td> 2.419</td> <th>  Cond. No.          </th> <td>    81.6</td>\n",
       "</tr>\n",
       "</table><br/><br/>Warnings:<br/>[1] Standard Errors assume that the covariance matrix of the errors is correctly specified."
      ],
      "text/plain": [
       "<class 'statsmodels.iolib.summary.Summary'>\n",
       "\"\"\"\n",
       "                            OLS Regression Results                            \n",
       "==============================================================================\n",
       "Dep. Variable:                      y   R-squared:                       0.894\n",
       "Model:                            OLS   Adj. R-squared:                  0.881\n",
       "Method:                 Least Squares   F-statistic:                     67.79\n",
       "Date:                Fri, 02 Aug 2019   Prob (F-statistic):           3.55e-05\n",
       "Time:                        19:45:29   Log-Likelihood:                -20.747\n",
       "No. Observations:                  10   AIC:                             45.49\n",
       "Df Residuals:                       8   BIC:                             46.10\n",
       "Df Model:                           1                                         \n",
       "Covariance Type:            nonrobust                                         \n",
       "==============================================================================\n",
       "                 coef    std err          t      P>|t|      [0.025      0.975]\n",
       "------------------------------------------------------------------------------\n",
       "const          4.6795      4.455      1.050      0.324      -5.594      14.953\n",
       "x1             2.9587      0.359      8.233      0.000       2.130       3.787\n",
       "==============================================================================\n",
       "Omnibus:                        1.785   Durbin-Watson:                   2.536\n",
       "Prob(Omnibus):                  0.410   Jarque-Bera (JB):                1.097\n",
       "Skew:                          -0.758   Prob(JB):                        0.578\n",
       "Kurtosis:                       2.419   Cond. No.                         81.6\n",
       "==============================================================================\n",
       "\n",
       "Warnings:\n",
       "[1] Standard Errors assume that the covariance matrix of the errors is correctly specified.\n",
       "\"\"\""
      ]
     },
     "execution_count": 36,
     "metadata": {},
     "output_type": "execute_result"
    }
   ],
   "source": [
    "x1 = sm.add_constant(x)\n",
    "sm.OLS(y, x1).fit().summary()"
   ]
  },
  {
   "cell_type": "code",
   "execution_count": null,
   "metadata": {},
   "outputs": [],
   "source": []
  },
  {
   "cell_type": "markdown",
   "metadata": {},
   "source": [
    "Example from pymc3: "
   ]
  },
  {
   "cell_type": "code",
   "execution_count": 37,
   "metadata": {},
   "outputs": [],
   "source": [
    "import numpy as np\n",
    "import matplotlib.pyplot as plt\n",
    "plt.style.use('seaborn-darkgrid')\n",
    "\n",
    "# Initialize random number generator\n",
    "np.random.seed(123)\n",
    "\n",
    "# True parameter values\n",
    "alpha, sigma = 1, 1\n",
    "beta = [1, 2.5]\n",
    "\n",
    "# Size of dataset\n",
    "size = 100\n",
    "\n",
    "# Predictor variable\n",
    "X1 = np.random.randn(size)\n",
    "X2 = np.random.randn(size) * 0.2\n",
    "\n",
    "# Simulate outcome variable\n",
    "Y = alpha + beta[0]*X1 + beta[1]*X2 + np.random.randn(size)*sigma"
   ]
  },
  {
   "cell_type": "code",
   "execution_count": 40,
   "metadata": {},
   "outputs": [
    {
     "data": {
      "image/png": "[encoded data removed]",
      "text/plain": [
       "<Figure size 720x288 with 2 Axes>"
      ]
     },
     "metadata": {},
     "output_type": "display_data"
    }
   ],
   "source": [
    "fig, axes = plt.subplots(1, 2, sharex=True, figsize=(10,4))\n",
    "axes[0].scatter(X1, Y)\n",
    "axes[1].scatter(X2, Y)\n",
    "axes[0].set_ylabel('Y'); axes[0].set_xlabel('X1'); axes[1].set_xlabel('X2');"
   ]
  },
  {
   "cell_type": "code",
   "execution_count": 43,
   "metadata": {},
   "outputs": [
    {
     "data": {
      "text/plain": [
       "array([ 9.38706859e-01,  4.10296149e-01,  3.83981292e+00,  1.48115418e+00,\n",
       "        4.02779506e-01,  2.46184530e+00, -1.42342679e+00, -1.27520755e+00,\n",
       "        2.38380704e+00, -3.90761758e-01,  6.86815665e-01,  2.10641559e+00,\n",
       "        1.84890360e+00, -8.04359754e-01,  3.93284941e-01,  2.31721220e+00,\n",
       "        3.41651416e+00,  3.39016804e+00,  2.22246532e+00,  3.77308673e-01,\n",
       "        3.43806883e-01,  1.66274112e+00, -1.20663529e-01,  2.18829692e+00,\n",
       "        1.50706675e+00, -1.19159361e+00,  1.44784359e+00, -1.55349860e+00,\n",
       "       -1.40248284e-01, -1.96609652e-02, -1.35472064e+00, -1.59474188e+00,\n",
       "       -1.39656749e+00,  5.29754386e-01,  2.63051387e+00,  5.53932221e-01,\n",
       "        1.76084808e+00,  2.39686504e+00,  1.47396672e+00,  9.07514885e-01,\n",
       "        7.37921664e-02, -3.82899347e-01,  1.49271947e+00,  7.65880501e-01,\n",
       "        2.05273917e+00,  5.63172455e-01,  4.25098874e+00,  3.26909416e-02,\n",
       "        3.93785393e-01,  3.67324277e+00,  1.69575050e+00,  9.38133214e-01,\n",
       "        1.35531685e+00, -2.42854948e+00,  1.26254192e+00,  2.07270390e+00,\n",
       "        2.75833869e+00,  2.60484762e+00,  3.21391580e+00,  4.95643013e+00,\n",
       "        2.31319324e-01,  1.53863552e+00,  1.25983672e+00, -5.57565140e-01,\n",
       "        3.74025866e+00,  1.00427073e+00,  2.44326467e+00,  5.03997740e-01,\n",
       "        1.06029822e+00,  1.48250538e+00, -2.69441500e-01, -1.19520306e+00,\n",
       "        3.20016631e+00, -6.69460228e-01, -2.24215995e+00,  2.10607318e+00,\n",
       "        2.01495136e+00, -8.51855254e-01, -8.99821832e-01, -1.20278122e+00,\n",
       "        1.05077792e+00, -1.43401688e-01,  1.84052098e+00,  1.16665281e+00,\n",
       "        5.60119574e-02, -2.04696786e+00, -1.66062003e+00,  5.51783963e-01,\n",
       "        1.58062230e+00,  1.63826706e+00,  1.16403511e+00,  3.85980814e-01,\n",
       "        2.23665854e+00,  1.23718947e+00, -1.16021703e+00,  1.11137427e+00,\n",
       "        1.65658589e+00, -3.20236525e-03,  1.36931418e+00,  1.33161104e+00])"
      ]
     },
     "execution_count": 43,
     "metadata": {},
     "output_type": "execute_result"
    }
   ],
   "source": [
    "Y"
   ]
  },
  {
   "cell_type": "code",
   "execution_count": null,
   "metadata": {},
   "outputs": [],
   "source": []
  }
 ],
 "metadata": {
  "kernelspec": {
   "display_name": "Python 3",
   "language": "python",
   "name": "python3"
  },
  "language_info": {
   "codemirror_mode": {
    "name": "ipython",
    "version": 3
   },
   "file_extension": ".py",
   "mimetype": "text/x-python",
   "name": "python",
   "nbconvert_exporter": "python",
   "pygments_lexer": "ipython3",
   "version": "3.7.3"
  }
 },
 "nbformat": 4,
 "nbformat_minor": 4
}
